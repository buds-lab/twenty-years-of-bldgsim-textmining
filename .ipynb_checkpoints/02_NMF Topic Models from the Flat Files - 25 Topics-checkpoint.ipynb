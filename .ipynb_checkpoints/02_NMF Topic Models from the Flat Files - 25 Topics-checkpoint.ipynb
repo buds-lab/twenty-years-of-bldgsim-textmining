{
 "cells": [
  {
   "cell_type": "code",
   "execution_count": 1,
   "metadata": {},
   "outputs": [
    {
     "name": "stdout",
     "output_type": "stream",
     "text": [
      "Loaded 31261 X 11905 document-term matrix\n"
     ]
    }
   ],
   "source": [
    "from sklearn.externals import joblib\n",
    "(A,terms,snippets) = joblib.load( \"emails-tfidf.pkl\" )\n",
    "print( \"Loaded %d X %d document-term matrix\" % (A.shape[0], A.shape[1]) )"
   ]
  },
  {
   "cell_type": "code",
   "execution_count": 2,
   "metadata": {},
   "outputs": [],
   "source": [
    "#terms"
   ]
  },
  {
   "cell_type": "code",
   "execution_count": 9,
   "metadata": {},
   "outputs": [],
   "source": [
    "k = 30"
   ]
  },
  {
   "cell_type": "code",
   "execution_count": 10,
   "metadata": {},
   "outputs": [],
   "source": [
    "# create the model\n",
    "from sklearn import decomposition\n",
    "model = decomposition.NMF( init=\"nndsvd\", n_components=k ) \n",
    "# apply the model and extract the two factor matrices\n",
    "W = model.fit_transform( A )\n",
    "H = model.components_"
   ]
  },
  {
   "cell_type": "code",
   "execution_count": 11,
   "metadata": {},
   "outputs": [
    {
     "data": {
      "text/plain": [
       "(31261, 30)"
      ]
     },
     "execution_count": 11,
     "metadata": {},
     "output_type": "execute_result"
    }
   ],
   "source": [
    "W.shape"
   ]
  },
  {
   "cell_type": "code",
   "execution_count": 12,
   "metadata": {},
   "outputs": [],
   "source": [
    "import numpy as np\n",
    "def get_descriptor( terms, H, topic_index, top ):\n",
    "    # reverse sort the values to sort the indices\n",
    "    top_indices = np.argsort( H[topic_index,:] )[::-1]\n",
    "    # now get the terms corresponding to the top-ranked indices\n",
    "    top_terms = []\n",
    "    for term_index in top_indices[0:top]:\n",
    "        top_terms.append( terms[term_index] )\n",
    "    return top_terms"
   ]
  },
  {
   "cell_type": "code",
   "execution_count": 14,
   "metadata": {},
   "outputs": [
    {
     "name": "stdout",
     "output_type": "stream",
     "text": [
      "Topic 01: baseline, proposed, existing, leed, g3\n",
      "Topic 02: weather, file, huang, epw, tmy2\n",
      "Topic 03: water, heat, loop, pump, chiller\n",
      "Topic 04: fan, power, supply, exhaust, cfm\n",
      "Topic 05: hours, unmet, zones, 300, met\n",
      "Topic 06: ventilation, rate, minimum, outdoor, proposed\n",
      "Topic 07: air, temperature, outdoor, supply, outside\n",
      "Topic 08: esl, 77843, 6507, 2457, 6065\n",
      "Topic 09: equest, file, doe2, doe, model\n",
      "Topic 10: lordaecksargent, aeck, sargent, lord, 1466\n",
      "Topic 11: cooling, load, heating, loads, equipment\n",
      "Topic 12: window, glass, glazing, windows, frame\n",
      "Topic 13: residential, dormitory, nal, definition, space\n",
      "Topic 14: rapids, 8653, acacia, 1631, 49504\n",
      "Topic 15: font, span, size, div, style\n",
      "Topic 16: brandon, 448, nichols, biz, stewart\n",
      "Topic 17: energyplus, doe, simulation, designbuilder, software\n",
      "Topic 18: 344, 0617, olathe, 25501, 66061\n",
      "Topic 19: bnim, koti, 783, 816, elements\n",
      "Topic 20: design, leed, modeling, model, analysis\n",
      "Topic 21: ght, hansen, information, error, disclosure\n",
      "Topic 22: ibpsa, larry, simulation, news, degelman\n",
      "Topic 23: lighting, power, eurek, nwo, ssc8\n",
      "Topic 24: 585, bishop, 325, wbishop, pathfinderengineers\n",
      "Topic 25: digest, request, subscribe, managing, hay\n",
      "Topic 26: trnsys, tess, bradley, madison, wi\n",
      "Topic 27: 382, andrew, ieice, craig, portland\n",
      "Topic 28: pnl, pnnl, 1960, todd, directorate\n",
      "Topic 29: uk, ac, zed, simulation, cfd\n",
      "Topic 30: iesve, nathan, kegel, disclaimer, timothy\n"
     ]
    }
   ],
   "source": [
    "descriptors = []\n",
    "for topic_index in range(k):\n",
    "    descriptors.append( get_descriptor( terms, H, topic_index, 5 ) )\n",
    "    str_descriptor = \", \".join( descriptors[topic_index] )\n",
    "    print(\"Topic %02d: %s\" % ( topic_index+1, str_descriptor ) )"
   ]
  },
  {
   "cell_type": "code",
   "execution_count": null,
   "metadata": {
    "collapsed": true
   },
   "outputs": [],
   "source": []
  }
 ],
 "metadata": {
  "kernelspec": {
   "display_name": "Python 2",
   "language": "python",
   "name": "python2"
  },
  "language_info": {
   "codemirror_mode": {
    "name": "ipython",
    "version": 2
   },
   "file_extension": ".py",
   "mimetype": "text/x-python",
   "name": "python",
   "nbconvert_exporter": "python",
   "pygments_lexer": "ipython2",
   "version": "2.7.15"
  }
 },
 "nbformat": 4,
 "nbformat_minor": 2
}
