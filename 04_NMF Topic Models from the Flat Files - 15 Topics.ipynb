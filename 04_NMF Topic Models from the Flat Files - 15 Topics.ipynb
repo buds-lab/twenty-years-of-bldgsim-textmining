{
 "cells": [
  {
   "cell_type": "markdown",
   "metadata": {},
   "source": [
    "# Find topic and word groups using the flat files data\n",
    "\n",
    "https://www.kaggle.com/akashram/topic-modeling-intro-implementation?scriptVersionId=6112006"
   ]
  },
  {
   "cell_type": "code",
   "execution_count": null,
   "metadata": {},
   "outputs": [],
   "source": []
  },
  {
   "cell_type": "code",
   "execution_count": 1,
   "metadata": {},
   "outputs": [
    {
     "name": "stdout",
     "output_type": "stream",
     "text": [
      "Loaded 20029 X 11487 document-term matrix\n"
     ]
    }
   ],
   "source": [
    "from sklearn.externals import joblib\n",
    "(A,terms) = joblib.load( \"emails-tfidf.pkl\" )\n",
    "print( \"Loaded %d X %d document-term matrix\" % (A.shape[0], A.shape[1]) )"
   ]
  },
  {
   "cell_type": "code",
   "execution_count": 2,
   "metadata": {},
   "outputs": [],
   "source": [
    "#terms"
   ]
  },
  {
   "cell_type": "code",
   "execution_count": null,
   "metadata": {},
   "outputs": [],
   "source": [
    "k = 15"
   ]
  },
  {
   "cell_type": "code",
   "execution_count": null,
   "metadata": {},
   "outputs": [],
   "source": [
    "# create the model\n",
    "from sklearn import decomposition\n",
    "model = decomposition.NMF( init=\"nndsvd\", n_components=k ) \n",
    "# apply the model and extract the two factor matrices\n",
    "W = model.fit_transform( A )\n",
    "H = model.components_"
   ]
  },
  {
   "cell_type": "code",
   "execution_count": null,
   "metadata": {},
   "outputs": [],
   "source": [
    "W.shape"
   ]
  },
  {
   "cell_type": "code",
   "execution_count": null,
   "metadata": {},
   "outputs": [],
   "source": [
    "#W"
   ]
  },
  {
   "cell_type": "code",
   "execution_count": null,
   "metadata": {},
   "outputs": [],
   "source": [
    "import numpy as np\n",
    "def get_descriptor( terms, H, topic_index, top ):\n",
    "    # reverse sort the values to sort the indices\n",
    "    top_indices = np.argsort( H[topic_index,:] )[::-1]\n",
    "    # now get the terms corresponding to the top-ranked indices\n",
    "    top_terms = []\n",
    "    for term_index in top_indices[0:top]:\n",
    "        top_terms.append( terms[term_index] )\n",
    "    return top_terms"
   ]
  },
  {
   "cell_type": "code",
   "execution_count": null,
   "metadata": {},
   "outputs": [],
   "source": [
    "#descriptors"
   ]
  },
  {
   "cell_type": "code",
   "execution_count": null,
   "metadata": {},
   "outputs": [],
   "source": [
    "descriptors = []\n",
    "for topic_index in range(k):\n",
    "    descriptors.append( get_descriptor( terms, H, topic_index, 15) )\n",
    "    str_descriptor = \", \".join( descriptors[topic_index] )\n",
    "#     print(\"Topic %02d: %s\" % ( topic_index+1, str_descriptor ) )\n",
    "    print(str_descriptor)"
   ]
  },
  {
   "cell_type": "code",
   "execution_count": null,
   "metadata": {},
   "outputs": [],
   "source": [
    "descriptors"
   ]
  },
  {
   "cell_type": "markdown",
   "metadata": {},
   "source": [
    "`\n",
    "onebuilding, available, references, digest, info, options, post, acknowledgement, successfully, entitled, leave, preferences, office, iesve, cid\n",
    "water, heat, loop, pump, system, chiller, source, hot, heating, chilled, boiler, pumps, ground, cooling, condenser\n",
    "weather, file, epw, tmy2, locations, tmy3, radiation, solar, climate, tmy, hourly, technologies, iwec2, doe, simulations\n",
    "building, simulation, energy, software, research, analysis, performance, buildings, engineering, university, tools, systems, architecture, ac, tool\n",
    "fan, power, fans, exhaust, supply, system, cfm, vav, kw, bhp, motor, energy, pressure, eer, baseline\n",
    "ibpsa, news, conference, newsletter, us3, simulation, affiliate, simbuild, dinner, event, latest, conferences, board, steven, chapter\n",
    "energyplus, designbuilder, training, workshop, openstudio, day, registration, hvac, doe, workshops, register, available, software, version, eventbrite\n",
    "cooling, load, hours, unmet, loads, heating, system, zones, equipment, report, capacity, sizing, space, temperature, total\n",
    "yahoo, energyplus_support, yahoogroups, onebuilding, search, equest, pv, simulate, php, photos, mobile, units, hvac, free, storage\n",
    "equest, file, users, doe, doe2, model, program, trace, version, inp, reports, report, input, software, direct\n",
    "wall, window, glass, roof, glazing, value, exterior, windows, walls, solar, shading, surface, thermal, heat, insulation\n",
    "baseline, proposed, building, leed, existing, appendix, ashrae, system, lighting, model, modeled, envelope, requirements, ventilation, section\n",
    "air, ventilation, outdoor, system, temperature, flow, minimum, outside, supply, recovery, rate, exhaust, control, vav, cfm\n",
    "trnsys, tess, specialists, thermal, system, training, energy, sel, software, solar, marketplace, visit, partner, registration, radiation\n",
    "energy, leed, modeling, cost, certification, model, buildings, project, savings, efficiency, ashrae, building, usgbc, models, equipment\n",
    "`"
   ]
  },
  {
   "cell_type": "code",
   "execution_count": null,
   "metadata": {},
   "outputs": [],
   "source": []
  }
 ],
 "metadata": {
  "kernelspec": {
   "display_name": "Python 2",
   "language": "python",
   "name": "python2"
  },
  "language_info": {
   "codemirror_mode": {
    "name": "ipython",
    "version": 2
   },
   "file_extension": ".py",
   "mimetype": "text/x-python",
   "name": "python",
   "nbconvert_exporter": "python",
   "pygments_lexer": "ipython2",
   "version": "2.7.15"
  }
 },
 "nbformat": 4,
 "nbformat_minor": 2
}
